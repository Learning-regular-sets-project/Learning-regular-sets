{
 "cells": [
  {
   "cell_type": "markdown",
   "id": "8f45bbbc",
   "metadata": {},
   "source": [
    "# Librerias "
   ]
  },
  {
   "cell_type": "markdown",
   "id": "e0e01766",
   "metadata": {},
   "source": [
    "Utilizaremos una libreria para poder simular a los automátas y poder determinar si una cadena pertenece o no al lenguaje"
   ]
  },
  {
   "cell_type": "code",
   "execution_count": null,
   "id": "3e620bc7",
   "metadata": {
    "ExecuteTime": {
     "end_time": "2022-05-23T22:58:48.697737Z",
     "start_time": "2022-05-23T22:58:48.689736Z"
    }
   },
   "outputs": [],
   "source": [
    "from  automata.fa.dfa import DFA\n",
    "import automata.base.exceptions as exceptions\n",
    "\n",
    "# Definimos un automáta para el cual queremos conocer su lenguaje.\n",
    "dfa = DFA(\n",
    "    states={\"q0\", \"q1\", \"q2\", \"q3\", \"q4\", \"q5\"},\n",
    "    input_symbols={\"0\", \"1\"},\n",
    "    transitions={\n",
    "        \"q0\": {\"0\": \"q2\", \"1\": \"q1\"},\n",
    "        \"q1\": {\"0\": \"q2\", \"1\": \"q1\"},\n",
    "        \"q2\": {\"0\": \"q4\", \"1\": \"q3\"},\n",
    "        \"q3\": {\"0\": \"q4\", \"1\": \"q3\"},\n",
    "        \"q4\": {\"0\": \"q5\", \"1\": \"q4\"},\n",
    "        \"q5\": {\"0\": \"q5\", \"1\": \"q5\"},\n",
    "    },\n",
    "    initial_state=\"q0\",\n",
    "    final_states={\"q5\"},\n",
    ")\n",
    "final_real_state = [\"q5\"]"
   ]
  },
  {
   "cell_type": "markdown",
   "id": "92d4240e",
   "metadata": {},
   "source": [
    "# Profesor minimo "
   ]
  },
  {
   "cell_type": "markdown",
   "id": "e2bd34a8",
   "metadata": {},
   "source": [
    "Definamos primero un profesor que enseñe 2 cosas \n",
    "\n",
    "-  Para una cadena t responda si esta misma corresponde al lenguaje regular desconocido o no.\n",
    "\n",
    "(Para esto definiremos un automáta que nos responda esta pregunta).Esto hace que el profesor pueda responder la pregunta en un tiempo polinomial en la longitud de la cadena, mas especificamente en un tiempo O(n)\n",
    "\n",
    "- Responde si un lenguaje regular es igual al desconocido(para esto utilizaremos una función de la libreria que nos dice si 2 automátas son equivalentes)."
   ]
  },
  {
   "cell_type": "code",
   "execution_count": null,
   "id": "cbcab233",
   "metadata": {
    "ExecuteTime": {
     "end_time": "2022-05-23T23:06:06.869070Z",
     "start_time": "2022-05-23T23:06:06.860074Z"
    }
   },
   "outputs": [],
   "source": [
    "# definimos una función donde el automata lee el input(si el input pertenece al lenguaje devuelve todas las configuraciones\n",
    "# hasta llegar al estado de aceptación, si no pertenece avisa que el lenguaje no fue reconocido)\n",
    "\n",
    "\n",
    "def read(dfa, input_symbols):\n",
    "    # Hacemos el minimo automáta que reconoce este lenguaje\n",
    "    minimal_dfa = dfa.minify()\n",
    "    if minimal_dfa.accepts_input(input_symbols):\n",
    "        return True\n",
    "    else:\n",
    "        return False\n",
    "\n",
    "\n",
    "def equivalent(dfa1, dfa2):\n",
    "    # dfa1 subset of dfa2\n",
    "    A = dfa1.issubset(dfa2)\n",
    "    # dfa2 subset of dfa1\n",
    "    B = dfa2.issubset(dfa1)\n",
    "    if A == True and B == True:\n",
    "        return True\n",
    "    else:\n",
    "        return False"
   ]
  }
 ],
 "metadata": {
  "hide_input": false,
  "interpreter": {
   "hash": "66f804da07f0f556d77bc3269dc5bb19edf020422864031af2885e5ff55f9079"
  },
  "kernelspec": {
   "display_name": "Python 3.10.4 64-bit (windows store)",
   "language": "python",
   "name": "python3"
  },
  "language_info": {
   "codemirror_mode": {
    "name": "ipython",
    "version": 3
   },
   "file_extension": ".py",
   "mimetype": "text/x-python",
   "name": "python",
   "nbconvert_exporter": "python",
   "pygments_lexer": "ipython3",
   "version": "3.10.4"
  },
  "nbTranslate": {
   "displayLangs": [
    "*"
   ],
   "hotkey": "alt-t",
   "langInMainMenu": true,
   "sourceLang": "en",
   "targetLang": "fr",
   "useGoogleTranslate": true
  },
  "toc": {
   "base_numbering": 1,
   "nav_menu": {},
   "number_sections": false,
   "sideBar": true,
   "skip_h1_title": false,
   "title_cell": "Table of Contents",
   "title_sidebar": "Contents",
   "toc_cell": false,
   "toc_position": {},
   "toc_section_display": true,
   "toc_window_display": true
  },
  "varInspector": {
   "cols": {
    "lenName": 16,
    "lenType": 16,
    "lenVar": 40
   },
   "kernels_config": {
    "python": {
     "delete_cmd_postfix": "",
     "delete_cmd_prefix": "del ",
     "library": "var_list.py",
     "varRefreshCmd": "print(var_dic_list())"
    },
    "r": {
     "delete_cmd_postfix": ") ",
     "delete_cmd_prefix": "rm(",
     "library": "var_list.r",
     "varRefreshCmd": "cat(var_dic_list()) "
    }
   },
   "types_to_exclude": [
    "module",
    "function",
    "builtin_function_or_method",
    "instance",
    "_Feature"
   ],
   "window_display": false
  }
 },
 "nbformat": 4,
 "nbformat_minor": 5
}
